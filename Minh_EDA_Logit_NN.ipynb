{
 "cells": [
  {
   "cell_type": "code",
   "execution_count": 1,
   "metadata": {},
   "outputs": [],
   "source": [
    "import pandas as pd\n",
    "import numpy as np\n",
    "import seaborn as sns\n",
    "from matplotlib import gridspec\n",
    "import imblearn\n",
    "from imblearn.under_sampling import RandomUnderSampler\n",
    "import matplotlib as mpl\n",
    "import matplotlib.pyplot as plt\n",
    "from sklearn.model_selection import train_test_split \n",
    "from statsmodels.stats.outliers_influence import variance_inflation_factor\n",
    "#from pandas_profiling import ProfileReport\n",
    "from sklearn import tree\n",
    "from sklearn.preprocessing import StandardScaler\n",
    "from sklearn.neural_network import MLPClassifier \n"
   ]
  },
  {
   "cell_type": "code",
   "execution_count": 2,
   "metadata": {},
   "outputs": [],
   "source": [
    "train = pd.read_csv('ads_train.csv')"
   ]
  },
  {
   "cell_type": "code",
   "execution_count": 4,
   "metadata": {},
   "outputs": [
    {
     "data": {
      "text/plain": [
       "(38209, 15)"
      ]
     },
     "execution_count": 4,
     "metadata": {},
     "output_type": "execute_result"
    }
   ],
   "source": [
    "train.shape"
   ]
  },
  {
   "cell_type": "code",
   "execution_count": 5,
   "metadata": {},
   "outputs": [
    {
     "name": "stdout",
     "output_type": "stream",
     "text": [
      "<class 'pandas.core.frame.DataFrame'>\n",
      "RangeIndex: 38209 entries, 0 to 38208\n",
      "Data columns (total 15 columns):\n",
      " #   Column               Non-Null Count  Dtype  \n",
      "---  ------               --------------  -----  \n",
      " 0   Unnamed: 0           38209 non-null  int64  \n",
      " 1   isbuyer              38209 non-null  int64  \n",
      " 2   buy_freq             1620 non-null   float64\n",
      " 3   visit_freq           38209 non-null  int64  \n",
      " 4   buy_interval         38209 non-null  float64\n",
      " 5   sv_interval          38209 non-null  float64\n",
      " 6   expected_time_buy    38209 non-null  float64\n",
      " 7   expected_time_visit  38209 non-null  float64\n",
      " 8   last_buy             38209 non-null  int64  \n",
      " 9   last_visit           38209 non-null  int64  \n",
      " 10  multiple_buy         38209 non-null  int64  \n",
      " 11  multiple_visit       38209 non-null  int64  \n",
      " 12  uniq_urls            38209 non-null  int64  \n",
      " 13  num_checkins         38209 non-null  int64  \n",
      " 14  y_buy                38209 non-null  int64  \n",
      "dtypes: float64(5), int64(10)\n",
      "memory usage: 4.4 MB\n"
     ]
    }
   ],
   "source": [
    "train.info()"
   ]
  },
  {
   "cell_type": "code",
   "execution_count": 6,
   "metadata": {},
   "outputs": [],
   "source": [
    "train.drop('Unnamed: 0', axis = 1, inplace = True)"
   ]
  },
  {
   "cell_type": "code",
   "execution_count": 7,
   "metadata": {},
   "outputs": [
    {
     "data": {
      "text/plain": [
       "Index(['isbuyer', 'buy_freq', 'visit_freq', 'buy_interval', 'sv_interval',\n",
       "       'expected_time_buy', 'expected_time_visit', 'last_buy', 'last_visit',\n",
       "       'multiple_buy', 'multiple_visit', 'uniq_urls', 'num_checkins', 'y_buy'],\n",
       "      dtype='object')"
      ]
     },
     "execution_count": 7,
     "metadata": {},
     "output_type": "execute_result"
    }
   ],
   "source": [
    "train.columns"
   ]
  },
  {
   "cell_type": "code",
   "execution_count": 8,
   "metadata": {},
   "outputs": [
    {
     "data": {
      "text/plain": [
       "isbuyer                0\n",
       "buy_freq               0\n",
       "visit_freq             0\n",
       "buy_interval           0\n",
       "sv_interval            0\n",
       "expected_time_buy      0\n",
       "expected_time_visit    0\n",
       "last_buy               0\n",
       "last_visit             0\n",
       "multiple_buy           0\n",
       "multiple_visit         0\n",
       "uniq_urls              0\n",
       "num_checkins           0\n",
       "y_buy                  0\n",
       "dtype: int64"
      ]
     },
     "execution_count": 8,
     "metadata": {},
     "output_type": "execute_result"
    }
   ],
   "source": [
    "#Replace NA with 0 in Buy_Freq:\n",
    "train.buy_freq.fillna(0, inplace=True)\n",
    "train.isnull().sum()"
   ]
  },
  {
   "cell_type": "code",
   "execution_count": 9,
   "metadata": {},
   "outputs": [
    {
     "data": {
      "text/html": [
       "<div>\n",
       "<style scoped>\n",
       "    .dataframe tbody tr th:only-of-type {\n",
       "        vertical-align: middle;\n",
       "    }\n",
       "\n",
       "    .dataframe tbody tr th {\n",
       "        vertical-align: top;\n",
       "    }\n",
       "\n",
       "    .dataframe thead th {\n",
       "        text-align: right;\n",
       "    }\n",
       "</style>\n",
       "<table border=\"1\" class=\"dataframe\">\n",
       "  <thead>\n",
       "    <tr style=\"text-align: right;\">\n",
       "      <th></th>\n",
       "      <th>min</th>\n",
       "      <th>max</th>\n",
       "      <th>mean</th>\n",
       "    </tr>\n",
       "  </thead>\n",
       "  <tbody>\n",
       "    <tr>\n",
       "      <th>isbuyer</th>\n",
       "      <td>0.0000</td>\n",
       "      <td>1.00000</td>\n",
       "      <td>0.042398</td>\n",
       "    </tr>\n",
       "    <tr>\n",
       "      <th>buy_freq</th>\n",
       "      <td>0.0000</td>\n",
       "      <td>15.00000</td>\n",
       "      <td>0.052553</td>\n",
       "    </tr>\n",
       "    <tr>\n",
       "      <th>visit_freq</th>\n",
       "      <td>0.0000</td>\n",
       "      <td>84.00000</td>\n",
       "      <td>1.868199</td>\n",
       "    </tr>\n",
       "    <tr>\n",
       "      <th>buy_interval</th>\n",
       "      <td>0.0000</td>\n",
       "      <td>174.62500</td>\n",
       "      <td>0.197411</td>\n",
       "    </tr>\n",
       "    <tr>\n",
       "      <th>sv_interval</th>\n",
       "      <td>0.0000</td>\n",
       "      <td>184.91670</td>\n",
       "      <td>5.862179</td>\n",
       "    </tr>\n",
       "    <tr>\n",
       "      <th>expected_time_buy</th>\n",
       "      <td>-181.9238</td>\n",
       "      <td>84.28571</td>\n",
       "      <td>-0.174376</td>\n",
       "    </tr>\n",
       "    <tr>\n",
       "      <th>expected_time_visit</th>\n",
       "      <td>-187.6156</td>\n",
       "      <td>91.40192</td>\n",
       "      <td>-10.136685</td>\n",
       "    </tr>\n",
       "    <tr>\n",
       "      <th>last_buy</th>\n",
       "      <td>0.0000</td>\n",
       "      <td>188.00000</td>\n",
       "      <td>64.657384</td>\n",
       "    </tr>\n",
       "    <tr>\n",
       "      <th>last_visit</th>\n",
       "      <td>0.0000</td>\n",
       "      <td>188.00000</td>\n",
       "      <td>64.657384</td>\n",
       "    </tr>\n",
       "    <tr>\n",
       "      <th>multiple_buy</th>\n",
       "      <td>0.0000</td>\n",
       "      <td>1.00000</td>\n",
       "      <td>0.005967</td>\n",
       "    </tr>\n",
       "    <tr>\n",
       "      <th>multiple_visit</th>\n",
       "      <td>0.0000</td>\n",
       "      <td>1.00000</td>\n",
       "      <td>0.277526</td>\n",
       "    </tr>\n",
       "    <tr>\n",
       "      <th>uniq_urls</th>\n",
       "      <td>-1.0000</td>\n",
       "      <td>206.00000</td>\n",
       "      <td>86.594624</td>\n",
       "    </tr>\n",
       "    <tr>\n",
       "      <th>num_checkins</th>\n",
       "      <td>1.0000</td>\n",
       "      <td>37091.00000</td>\n",
       "      <td>723.834515</td>\n",
       "    </tr>\n",
       "    <tr>\n",
       "      <th>y_buy</th>\n",
       "      <td>0.0000</td>\n",
       "      <td>1.00000</td>\n",
       "      <td>0.004502</td>\n",
       "    </tr>\n",
       "  </tbody>\n",
       "</table>\n",
       "</div>"
      ],
      "text/plain": [
       "                          min          max        mean\n",
       "isbuyer                0.0000      1.00000    0.042398\n",
       "buy_freq               0.0000     15.00000    0.052553\n",
       "visit_freq             0.0000     84.00000    1.868199\n",
       "buy_interval           0.0000    174.62500    0.197411\n",
       "sv_interval            0.0000    184.91670    5.862179\n",
       "expected_time_buy   -181.9238     84.28571   -0.174376\n",
       "expected_time_visit -187.6156     91.40192  -10.136685\n",
       "last_buy               0.0000    188.00000   64.657384\n",
       "last_visit             0.0000    188.00000   64.657384\n",
       "multiple_buy           0.0000      1.00000    0.005967\n",
       "multiple_visit         0.0000      1.00000    0.277526\n",
       "uniq_urls             -1.0000    206.00000   86.594624\n",
       "num_checkins           1.0000  37091.00000  723.834515\n",
       "y_buy                  0.0000      1.00000    0.004502"
      ]
     },
     "execution_count": 9,
     "metadata": {},
     "output_type": "execute_result"
    }
   ],
   "source": [
    "train.describe().transpose()[['min','max','mean']]"
   ]
  },
  {
   "cell_type": "code",
   "execution_count": 10,
   "metadata": {},
   "outputs": [
    {
     "data": {
      "image/png": "[encoded data removed]",
      "text/plain": [
       "<Figure size 432x288 with 2 Axes>"
      ]
     },
     "metadata": {
      "needs_background": "light"
     },
     "output_type": "display_data"
    }
   ],
   "source": [
    "corrMatrix = train.corr()\n",
    "sns.heatmap(corrMatrix, annot=False)\n",
    "plt.show()"
   ]
  },
  {
   "cell_type": "code",
   "execution_count": 11,
   "metadata": {},
   "outputs": [
    {
     "name": "stdout",
     "output_type": "stream",
     "text": [
      "13\n",
      "Index(['isbuyer', 'buy_freq', 'visit_freq', 'buy_interval', 'sv_interval',\n",
      "       'expected_time_buy', 'expected_time_visit', 'last_buy', 'multiple_buy',\n",
      "       'multiple_visit', 'uniq_urls', 'num_checkins', 'y_buy'],\n",
      "      dtype='object')\n"
     ]
    }
   ],
   "source": [
    "## spot the highly correlated variables with threshold = 0.9\n",
    "columns = np.full((corrMatrix.shape[0],), True, dtype=bool)\n",
    "for i in range(corrMatrix.shape[0]):\n",
    "    for j in range(i+1, corrMatrix.shape[0]):\n",
    "        if corrMatrix.iloc[i,j] >= 0.9:\n",
    "            if columns[j]:\n",
    "                columns[j] = False\n",
    "selected_columns = train.columns[columns]\n",
    "\n",
    "print(len(selected_columns))\n",
    "print(selected_columns) # turn out, the removed variable is last_visit\n",
    "\n",
    "\n"
   ]
  },
  {
   "cell_type": "code",
   "execution_count": 12,
   "metadata": {},
   "outputs": [
    {
     "data": {
      "text/plain": [
       "(38209, 13)"
      ]
     },
     "execution_count": 12,
     "metadata": {},
     "output_type": "execute_result"
    }
   ],
   "source": [
    "## Remove last_visit and keep last_buy:\n",
    "train = train[selected_columns]\n",
    "train.shape\n"
   ]
  },
  {
   "cell_type": "markdown",
   "metadata": {},
   "source": [
    "Because the y_buy is a categorical value, I will chose Logistic Regression. There are many benefits of using Logistic Regression over Linear Regression or Multi Linear Regression, especially in this case"
   ]
  },
  {
   "cell_type": "code",
   "execution_count": 13,
   "metadata": {},
   "outputs": [],
   "source": [
    "from sklearn import metrics\n",
    "from sklearn.preprocessing import StandardScaler\n",
    "from sklearn.svm import SVC \n",
    "from sklearn.neural_network import MLPClassifier \n",
    "from scipy import stats\n",
    "from sklearn.impute import KNNImputer\n",
    "import statsmodels.api as sm\n",
    "from sklearn import tree\n",
    "#import graphviz"
   ]
  },
  {
   "cell_type": "code",
   "execution_count": 14,
   "metadata": {},
   "outputs": [
    {
     "data": {
      "text/plain": [
       "<AxesSubplot:>"
      ]
     },
     "execution_count": 14,
     "metadata": {},
     "output_type": "execute_result"
    },
    {
     "data": {
      "image/png": "[encoded data removed]",
      "text/plain": [
       "<Figure size 432x288 with 2 Axes>"
      ]
     },
     "metadata": {
      "needs_background": "light"
     },
     "output_type": "display_data"
    }
   ],
   "source": [
    "sns.heatmap((train.corr()), annot = False)"
   ]
  },
  {
   "cell_type": "code",
   "execution_count": null,
   "metadata": {},
   "outputs": [],
   "source": []
  },
  {
   "cell_type": "code",
   "execution_count": null,
   "metadata": {},
   "outputs": [],
   "source": []
  },
  {
   "cell_type": "code",
   "execution_count": null,
   "metadata": {},
   "outputs": [],
   "source": []
  },
  {
   "cell_type": "code",
   "execution_count": null,
   "metadata": {},
   "outputs": [],
   "source": []
  },
  {
   "cell_type": "code",
   "execution_count": null,
   "metadata": {},
   "outputs": [],
   "source": []
  },
  {
   "cell_type": "code",
   "execution_count": null,
   "metadata": {},
   "outputs": [],
   "source": []
  },
  {
   "cell_type": "code",
   "execution_count": null,
   "metadata": {},
   "outputs": [],
   "source": []
  },
  {
   "cell_type": "code",
   "execution_count": null,
   "metadata": {},
   "outputs": [],
   "source": []
  },
  {
   "cell_type": "code",
   "execution_count": null,
   "metadata": {},
   "outputs": [],
   "source": []
  },
  {
   "cell_type": "code",
   "execution_count": null,
   "metadata": {},
   "outputs": [],
   "source": []
  },
  {
   "cell_type": "code",
   "execution_count": 15,
   "metadata": {},
   "outputs": [
    {
     "name": "stdout",
     "output_type": "stream",
     "text": [
      "0    38037\n",
      "1      172\n",
      "Name: y_buy, dtype: int64\n"
     ]
    },
    {
     "data": {
      "image/png": "[encoded data removed]",
      "text/plain": [
       "<Figure size 432x288 with 1 Axes>"
      ]
     },
     "metadata": {
      "needs_background": "light"
     },
     "output_type": "display_data"
    }
   ],
   "source": [
    "sns.countplot(x = 'y_buy', data =train)\n",
    "print(train['y_buy'].value_counts())"
   ]
  },
  {
   "cell_type": "code",
   "execution_count": 16,
   "metadata": {},
   "outputs": [],
   "source": [
    "undersample = RandomUnderSampler(sampling_strategy=0.5)"
   ]
  },
  {
   "cell_type": "code",
   "execution_count": 17,
   "metadata": {},
   "outputs": [],
   "source": [
    "cols = train.columns.tolist()\n",
    "cols = [c for c in cols if c not in [\"y_buy\"]]\n",
    "target = \"y_buy\""
   ]
  },
  {
   "cell_type": "code",
   "execution_count": 18,
   "metadata": {},
   "outputs": [],
   "source": [
    "#define X and Y\n",
    "X = train[cols]\n",
    "Y = train[target]\n",
    "\n",
    "#undersample\n",
    "X_under, Y_under = undersample.fit_resample(X, Y)"
   ]
  },
  {
   "cell_type": "code",
   "execution_count": 20,
   "metadata": {},
   "outputs": [
    {
     "name": "stdout",
     "output_type": "stream",
     "text": [
      "(516, 12)\n",
      "(516,)\n",
      "0    344\n",
      "1    172\n",
      "Name: y_buy, dtype: int64\n"
     ]
    }
   ],
   "source": [
    "print(X_under.shape)\n",
    "print(Y_under.shape)\n",
    "print(Y_under.value_counts())"
   ]
  },
  {
   "cell_type": "code",
   "execution_count": 19,
   "metadata": {},
   "outputs": [
    {
     "data": {
      "text/plain": [
       "(516, 1)"
      ]
     },
     "execution_count": 19,
     "metadata": {},
     "output_type": "execute_result"
    }
   ],
   "source": [
    "Y_under = pd.DataFrame(Y_under, columns = ['y_buy'])\n",
    "Y_under.shape"
   ]
  },
  {
   "cell_type": "code",
   "execution_count": 20,
   "metadata": {},
   "outputs": [
    {
     "data": {
      "text/plain": [
       "(516, 12)"
      ]
     },
     "execution_count": 20,
     "metadata": {},
     "output_type": "execute_result"
    }
   ],
   "source": [
    "X_under = pd.DataFrame(X_under)\n",
    "X_under.shape"
   ]
  },
  {
   "cell_type": "code",
   "execution_count": 21,
   "metadata": {},
   "outputs": [
    {
     "data": {
      "text/plain": [
       "<Figure size 1440x432 with 0 Axes>"
      ]
     },
     "metadata": {},
     "output_type": "display_data"
    }
   ],
   "source": [
    "## Set the size for the figures:\n",
    "fig = plt.figure(figsize=(20, 6))\n",
    "gs = gridspec.GridSpec(nrows=1, ncols=2,\n",
    "                       height_ratios=[6], \n",
    "                       width_ratios=[30, 30])\n"
   ]
  },
  {
   "cell_type": "code",
   "execution_count": 22,
   "metadata": {},
   "outputs": [
    {
     "data": {
      "image/png": "[encoded data removed]",
      "text/plain": [
       "<Figure size 432x288 with 2 Axes>"
      ]
     },
     "metadata": {
      "needs_background": "light"
     },
     "output_type": "display_data"
    }
   ],
   "source": [
    "## Plot the figures:\n",
    "\n",
    "ax = plt.subplot(gs[1]) # put this chart in 2nd place.\n",
    "sns.countplot(x = \"y_buy\",data = Y_under, ax=ax) \n",
    "ax.set_title('After Under Sampling', fontsize=12, fontweight='bold')\n",
    "\n",
    "ax2 = plt.subplot(gs[0])\n",
    "sns.countplot(x = \"y_buy\", data = train, ax = ax2)\n",
    "ax2.set_title('Before Under Sampling', fontsize=12, fontweight='bold') \n",
    "\n",
    "plt.show()"
   ]
  },
  {
   "cell_type": "code",
   "execution_count": 23,
   "metadata": {},
   "outputs": [],
   "source": [
    "## Randomly split the training and test:\n",
    "\n",
    "X_train, X_test, y_train, y_test = train_test_split(X_under, Y_under, test_size=0.25, random_state=12345)"
   ]
  },
  {
   "cell_type": "code",
   "execution_count": 24,
   "metadata": {},
   "outputs": [
    {
     "name": "stdout",
     "output_type": "stream",
     "text": [
      "the shape of X_train: (387, 12)\n",
      "the shape of Y_train: (387, 1)\n",
      "the shape of x_test: (129, 12)\n",
      "the shape of y_test: (129, 1)\n"
     ]
    }
   ],
   "source": [
    "print(\"the shape of X_train: \" + str(X_train.shape))\n",
    "print(\"the shape of Y_train: \" + str(y_train.shape))\n",
    "print(\"the shape of x_test: \" + str(X_test.shape))\n",
    "print(\"the shape of y_test: \" + str(y_test.shape))"
   ]
  },
  {
   "cell_type": "markdown",
   "metadata": {},
   "source": [
    "#### 1. OLS Model"
   ]
  },
  {
   "cell_type": "code",
   "execution_count": 25,
   "metadata": {},
   "outputs": [
    {
     "name": "stdout",
     "output_type": "stream",
     "text": [
      "                                 OLS Regression Results                                \n",
      "=======================================================================================\n",
      "Dep. Variable:                  y_buy   R-squared (uncentered):                   0.524\n",
      "Model:                            OLS   Adj. R-squared (uncentered):              0.508\n",
      "Method:                 Least Squares   F-statistic:                              34.35\n",
      "Date:                Sun, 30 May 2021   Prob (F-statistic):                    3.47e-53\n",
      "Time:                        18:09:10   Log-Likelihood:                         -183.84\n",
      "No. Observations:                 387   AIC:                                      391.7\n",
      "Df Residuals:                     375   BIC:                                      439.2\n",
      "Df Model:                          12                                                  \n",
      "Covariance Type:            nonrobust                                                  \n",
      "=======================================================================================\n",
      "                          coef    std err          t      P>|t|      [0.025      0.975]\n",
      "---------------------------------------------------------------------------------------\n",
      "isbuyer                 0.2290      0.079      2.910      0.004       0.074       0.384\n",
      "buy_freq               -0.0375      0.035     -1.085      0.279      -0.105       0.030\n",
      "visit_freq              0.0089      0.005      1.969      0.050    1.41e-05       0.018\n",
      "buy_interval           -0.0047      0.003     -1.697      0.091      -0.010       0.001\n",
      "sv_interval            -0.0056      0.001     -4.307      0.000      -0.008      -0.003\n",
      "expected_time_buy       0.0013      0.002      0.552      0.581      -0.003       0.006\n",
      "expected_time_visit     0.0036      0.001      4.348      0.000       0.002       0.005\n",
      "last_buy                0.0003      0.000      0.673      0.501      -0.001       0.001\n",
      "multiple_buy            0.3383      0.186      1.817      0.070      -0.028       0.704\n",
      "multiple_visit          0.5485      0.061      9.019      0.000       0.429       0.668\n",
      "uniq_urls            8.226e-05      0.000      0.211      0.833      -0.001       0.001\n",
      "num_checkins         1.898e-05   2.66e-05      0.714      0.475   -3.32e-05    7.12e-05\n",
      "==============================================================================\n",
      "Omnibus:                       33.528   Durbin-Watson:                   1.986\n",
      "Prob(Omnibus):                  0.000   Jarque-Bera (JB):               40.106\n",
      "Skew:                           0.725   Prob(JB):                     1.96e-09\n",
      "Kurtosis:                       3.621   Cond. No.                     1.05e+04\n",
      "==============================================================================\n",
      "\n",
      "Notes:\n",
      "[1] R² is computed without centering (uncentered) since the model does not contain a constant.\n",
      "[2] Standard Errors assume that the covariance matrix of the errors is correctly specified.\n",
      "[3] The condition number is large, 1.05e+04. This might indicate that there are\n",
      "strong multicollinearity or other numerical problems.\n"
     ]
    }
   ],
   "source": [
    "linear = sm.OLS(y_train, X_train).fit()\n",
    "print (linear.summary())"
   ]
  },
  {
   "cell_type": "code",
   "execution_count": 26,
   "metadata": {},
   "outputs": [
    {
     "name": "stdout",
     "output_type": "stream",
     "text": [
      "                                 OLS Regression Results                                \n",
      "=======================================================================================\n",
      "Dep. Variable:                  y_buy   R-squared (uncentered):                   0.504\n",
      "Model:                            OLS   Adj. R-squared (uncentered):              0.499\n",
      "Method:                 Least Squares   F-statistic:                              97.37\n",
      "Date:                Sun, 30 May 2021   Prob (F-statistic):                    4.37e-57\n",
      "Time:                        18:09:10   Log-Likelihood:                         -191.58\n",
      "No. Observations:                 387   AIC:                                      391.2\n",
      "Df Residuals:                     383   BIC:                                      407.0\n",
      "Df Model:                           4                                                  \n",
      "Covariance Type:            nonrobust                                                  \n",
      "=======================================================================================\n",
      "                          coef    std err          t      P>|t|      [0.025      0.975]\n",
      "---------------------------------------------------------------------------------------\n",
      "isbuyer                 0.2799      0.062      4.517      0.000       0.158       0.402\n",
      "sv_interval            -0.0059      0.001     -4.761      0.000      -0.008      -0.003\n",
      "expected_time_visit     0.0036      0.001      4.936      0.000       0.002       0.005\n",
      "multiple_visit          0.6250      0.050     12.382      0.000       0.526       0.724\n",
      "==============================================================================\n",
      "Omnibus:                       24.304   Durbin-Watson:                   1.909\n",
      "Prob(Omnibus):                  0.000   Jarque-Bera (JB):               30.846\n",
      "Skew:                           0.521   Prob(JB):                     2.00e-07\n",
      "Kurtosis:                       3.909   Cond. No.                         109.\n",
      "==============================================================================\n",
      "\n",
      "Notes:\n",
      "[1] R² is computed without centering (uncentered) since the model does not contain a constant.\n",
      "[2] Standard Errors assume that the covariance matrix of the errors is correctly specified.\n"
     ]
    }
   ],
   "source": [
    "## Backward Selection for variables:\n",
    "X_train_trim = X_train.drop(['buy_freq','visit_freq','buy_interval','expected_time_buy',\\\n",
    "                             'last_buy','multiple_buy','uniq_urls','num_checkins'], axis = 1)\n",
    "linear2 = sm.OLS(y_train, X_train_trim).fit()\n",
    "print(linear2.summary())"
   ]
  },
  {
   "cell_type": "code",
   "execution_count": 27,
   "metadata": {},
   "outputs": [
    {
     "name": "stdout",
     "output_type": "stream",
     "text": [
      "[[72  8]\n",
      " [21 28]]\n",
      "Accuracy: 77.51937984496125 %\n",
      "Precision: 77.77777777777779 %\n",
      "Recall: 57.14285714285714 %\n"
     ]
    }
   ],
   "source": [
    "## Drop the variables for X_test also:\n",
    "X_test_trim = X_test.drop(['buy_freq','visit_freq','buy_interval','expected_time_buy',\\\n",
    "                             'last_buy','multiple_buy','uniq_urls','num_checkins'], axis = 1)\n",
    "\n",
    "#Set the threshold as 0.5:\n",
    "y_pred_OLS = linear2.predict(X_test_trim)\n",
    "y_pred_OLS = [ 0 if x < 0.5 else 1 for x in y_pred_OLS]\n",
    "\n",
    "print(metrics.confusion_matrix(y_test, y_pred_OLS))\n",
    "print (\"Accuracy: \" + str( metrics.accuracy_score(y_test, y_pred_OLS)*100)+\" %\")\n",
    "print (\"Precision: \"+ str( metrics.precision_score(y_test, y_pred_OLS)*100) + \" %\")\n",
    "print ( \"Recall: \"+ str( metrics.recall_score(y_test, y_pred_OLS)*100) +\" %\")\n"
   ]
  },
  {
   "cell_type": "markdown",
   "metadata": {},
   "source": [
    "#### 2. Logit Model:"
   ]
  },
  {
   "cell_type": "code",
   "execution_count": 28,
   "metadata": {},
   "outputs": [],
   "source": [
    "def calc_vif(X):\n",
    "\n",
    "    # Calculating VIF\n",
    "    vif = pd.DataFrame()\n",
    "    vif[\"variables\"] = X.columns\n",
    "    vif[\"VIF\"] = [variance_inflation_factor(X.values, i) for i in range(X.shape[1])]\n",
    "\n",
    "    return(vif)"
   ]
  },
  {
   "cell_type": "code",
   "execution_count": 29,
   "metadata": {},
   "outputs": [
    {
     "data": {
      "text/html": [
       "<div>\n",
       "<style scoped>\n",
       "    .dataframe tbody tr th:only-of-type {\n",
       "        vertical-align: middle;\n",
       "    }\n",
       "\n",
       "    .dataframe tbody tr th {\n",
       "        vertical-align: top;\n",
       "    }\n",
       "\n",
       "    .dataframe thead th {\n",
       "        text-align: right;\n",
       "    }\n",
       "</style>\n",
       "<table border=\"1\" class=\"dataframe\">\n",
       "  <thead>\n",
       "    <tr style=\"text-align: right;\">\n",
       "      <th></th>\n",
       "      <th>variables</th>\n",
       "      <th>VIF</th>\n",
       "    </tr>\n",
       "  </thead>\n",
       "  <tbody>\n",
       "    <tr>\n",
       "      <th>0</th>\n",
       "      <td>isbuyer</td>\n",
       "      <td>2.495498</td>\n",
       "    </tr>\n",
       "    <tr>\n",
       "      <th>1</th>\n",
       "      <td>buy_freq</td>\n",
       "      <td>3.364893</td>\n",
       "    </tr>\n",
       "    <tr>\n",
       "      <th>2</th>\n",
       "      <td>visit_freq</td>\n",
       "      <td>3.209434</td>\n",
       "    </tr>\n",
       "    <tr>\n",
       "      <th>3</th>\n",
       "      <td>buy_interval</td>\n",
       "      <td>2.541184</td>\n",
       "    </tr>\n",
       "    <tr>\n",
       "      <th>4</th>\n",
       "      <td>sv_interval</td>\n",
       "      <td>1.885234</td>\n",
       "    </tr>\n",
       "    <tr>\n",
       "      <th>5</th>\n",
       "      <td>expected_time_buy</td>\n",
       "      <td>1.830691</td>\n",
       "    </tr>\n",
       "    <tr>\n",
       "      <th>6</th>\n",
       "      <td>expected_time_visit</td>\n",
       "      <td>1.686621</td>\n",
       "    </tr>\n",
       "    <tr>\n",
       "      <th>7</th>\n",
       "      <td>last_buy</td>\n",
       "      <td>2.530351</td>\n",
       "    </tr>\n",
       "    <tr>\n",
       "      <th>8</th>\n",
       "      <td>multiple_buy</td>\n",
       "      <td>5.104821</td>\n",
       "    </tr>\n",
       "    <tr>\n",
       "      <th>9</th>\n",
       "      <td>multiple_visit</td>\n",
       "      <td>4.000857</td>\n",
       "    </tr>\n",
       "    <tr>\n",
       "      <th>10</th>\n",
       "      <td>uniq_urls</td>\n",
       "      <td>4.065420</td>\n",
       "    </tr>\n",
       "    <tr>\n",
       "      <th>11</th>\n",
       "      <td>num_checkins</td>\n",
       "      <td>2.224501</td>\n",
       "    </tr>\n",
       "  </tbody>\n",
       "</table>\n",
       "</div>"
      ],
      "text/plain": [
       "              variables       VIF\n",
       "0               isbuyer  2.495498\n",
       "1              buy_freq  3.364893\n",
       "2            visit_freq  3.209434\n",
       "3          buy_interval  2.541184\n",
       "4           sv_interval  1.885234\n",
       "5     expected_time_buy  1.830691\n",
       "6   expected_time_visit  1.686621\n",
       "7              last_buy  2.530351\n",
       "8          multiple_buy  5.104821\n",
       "9        multiple_visit  4.000857\n",
       "10            uniq_urls  4.065420\n",
       "11         num_checkins  2.224501"
      ]
     },
     "execution_count": 29,
     "metadata": {},
     "output_type": "execute_result"
    }
   ],
   "source": [
    "## Check VIF for Multicolinearity:\n",
    "calc_vif(X_train)"
   ]
  },
  {
   "cell_type": "code",
   "execution_count": 30,
   "metadata": {},
   "outputs": [
    {
     "data": {
      "text/html": [
       "<div>\n",
       "<style scoped>\n",
       "    .dataframe tbody tr th:only-of-type {\n",
       "        vertical-align: middle;\n",
       "    }\n",
       "\n",
       "    .dataframe tbody tr th {\n",
       "        vertical-align: top;\n",
       "    }\n",
       "\n",
       "    .dataframe thead th {\n",
       "        text-align: right;\n",
       "    }\n",
       "</style>\n",
       "<table border=\"1\" class=\"dataframe\">\n",
       "  <thead>\n",
       "    <tr style=\"text-align: right;\">\n",
       "      <th></th>\n",
       "      <th>variables</th>\n",
       "      <th>VIF</th>\n",
       "    </tr>\n",
       "  </thead>\n",
       "  <tbody>\n",
       "    <tr>\n",
       "      <th>0</th>\n",
       "      <td>isbuyer</td>\n",
       "      <td>2.100533</td>\n",
       "    </tr>\n",
       "    <tr>\n",
       "      <th>1</th>\n",
       "      <td>buy_freq</td>\n",
       "      <td>2.664020</td>\n",
       "    </tr>\n",
       "    <tr>\n",
       "      <th>2</th>\n",
       "      <td>visit_freq</td>\n",
       "      <td>2.390087</td>\n",
       "    </tr>\n",
       "    <tr>\n",
       "      <th>3</th>\n",
       "      <td>buy_interval</td>\n",
       "      <td>1.339589</td>\n",
       "    </tr>\n",
       "    <tr>\n",
       "      <th>4</th>\n",
       "      <td>sv_interval</td>\n",
       "      <td>1.177671</td>\n",
       "    </tr>\n",
       "    <tr>\n",
       "      <th>5</th>\n",
       "      <td>expected_time_buy</td>\n",
       "      <td>1.180358</td>\n",
       "    </tr>\n",
       "    <tr>\n",
       "      <th>6</th>\n",
       "      <td>expected_time_visit</td>\n",
       "      <td>1.268931</td>\n",
       "    </tr>\n",
       "    <tr>\n",
       "      <th>7</th>\n",
       "      <td>last_buy</td>\n",
       "      <td>2.437199</td>\n",
       "    </tr>\n",
       "    <tr>\n",
       "      <th>8</th>\n",
       "      <td>uniq_urls</td>\n",
       "      <td>3.932696</td>\n",
       "    </tr>\n",
       "    <tr>\n",
       "      <th>9</th>\n",
       "      <td>num_checkins</td>\n",
       "      <td>2.223735</td>\n",
       "    </tr>\n",
       "  </tbody>\n",
       "</table>\n",
       "</div>"
      ],
      "text/plain": [
       "             variables       VIF\n",
       "0              isbuyer  2.100533\n",
       "1             buy_freq  2.664020\n",
       "2           visit_freq  2.390087\n",
       "3         buy_interval  1.339589\n",
       "4          sv_interval  1.177671\n",
       "5    expected_time_buy  1.180358\n",
       "6  expected_time_visit  1.268931\n",
       "7             last_buy  2.437199\n",
       "8            uniq_urls  3.932696\n",
       "9         num_checkins  2.223735"
      ]
     },
     "execution_count": 30,
     "metadata": {},
     "output_type": "execute_result"
    }
   ],
   "source": [
    "## Drop multiple_buy due to high multicolinearity with multiple_visit\n",
    "X_train_trim2 = X_train.drop(['multiple_buy','multiple_visit'], axis = 1)\n",
    "X_test_trim2 = X_test.drop(['multiple_buy','multiple_visit' ], axis = 1)\n",
    "calc_vif(X_train_trim2)"
   ]
  },
  {
   "cell_type": "code",
   "execution_count": 31,
   "metadata": {},
   "outputs": [
    {
     "name": "stdout",
     "output_type": "stream",
     "text": [
      "Optimization terminated successfully.\n",
      "         Current function value: 0.424289\n",
      "         Iterations 10\n",
      "                           Logit Regression Results                           \n",
      "==============================================================================\n",
      "Dep. Variable:                  y_buy   No. Observations:                  387\n",
      "Model:                          Logit   Df Residuals:                      377\n",
      "Method:                           MLE   Df Model:                            9\n",
      "Date:                Sun, 30 May 2021   Pseudo R-squ.:                  0.3214\n",
      "Time:                        18:09:10   Log-Likelihood:                -164.20\n",
      "converged:                       True   LL-Null:                       -241.96\n",
      "Covariance Type:            nonrobust   LLR p-value:                 6.317e-29\n",
      "=======================================================================================\n",
      "                          coef    std err          z      P>|z|      [0.025      0.975]\n",
      "---------------------------------------------------------------------------------------\n",
      "isbuyer                -2.2939      2.126     -1.079      0.281      -6.461       1.873\n",
      "buy_freq                3.1007      2.022      1.533      0.125      -0.863       7.065\n",
      "visit_freq              0.1994      0.053      3.762      0.000       0.096       0.303\n",
      "buy_interval           -0.0625      0.027     -2.286      0.022      -0.116      -0.009\n",
      "sv_interval            -0.0028      0.007     -0.383      0.701      -0.017       0.012\n",
      "expected_time_buy       0.0172      0.030      0.574      0.566      -0.041       0.076\n",
      "expected_time_visit    -0.0123      0.007     -1.884      0.060      -0.025       0.000\n",
      "last_buy               -0.0247      0.005     -5.028      0.000      -0.034      -0.015\n",
      "uniq_urls              -0.0110      0.003     -3.731      0.000      -0.017      -0.005\n",
      "num_checkins            0.0003      0.000      1.918      0.055   -7.48e-06       0.001\n",
      "=======================================================================================\n"
     ]
    }
   ],
   "source": [
    "## Try to build the Logit model:\n",
    "logit = sm.Logit(y_train, X_train_trim2).fit()\n",
    "print(logit.summary())"
   ]
  },
  {
   "cell_type": "code",
   "execution_count": 32,
   "metadata": {},
   "outputs": [
    {
     "name": "stdout",
     "output_type": "stream",
     "text": [
      "Optimization terminated successfully.\n",
      "         Current function value: 0.447235\n",
      "         Iterations 7\n",
      "                           Logit Regression Results                           \n",
      "==============================================================================\n",
      "Dep. Variable:                  y_buy   No. Observations:                  387\n",
      "Model:                          Logit   Df Residuals:                      383\n",
      "Method:                           MLE   Df Model:                            3\n",
      "Date:                Sun, 30 May 2021   Pseudo R-squ.:                  0.2847\n",
      "Time:                        18:09:10   Log-Likelihood:                -173.08\n",
      "converged:                       True   LL-Null:                       -241.96\n",
      "Covariance Type:            nonrobust   LLR p-value:                 1.148e-29\n",
      "=======================================================================================\n",
      "                          coef    std err          z      P>|z|      [0.025      0.975]\n",
      "---------------------------------------------------------------------------------------\n",
      "visit_freq              0.2237      0.045      4.922      0.000       0.135       0.313\n",
      "expected_time_visit    -0.0164      0.006     -2.716      0.007      -0.028      -0.005\n",
      "last_buy               -0.0266      0.005     -5.389      0.000      -0.036      -0.017\n",
      "uniq_urls              -0.0070      0.002     -2.994      0.003      -0.012      -0.002\n",
      "=======================================================================================\n"
     ]
    }
   ],
   "source": [
    "## Drop the insignificant variable and keep only those significant:\n",
    "X_train_logit = X_train_trim2[['visit_freq','expected_time_visit','last_buy','uniq_urls']]\n",
    "X_test_logit = X_test_trim2[['visit_freq','expected_time_visit','last_buy','uniq_urls']]\n",
    "\n",
    "## Build the Logit Model again with significant variables:\n",
    "logit2 = sm.Logit(y_train, X_train_logit).fit()\n",
    "print(logit2.summary())"
   ]
  },
  {
   "cell_type": "code",
   "execution_count": 33,
   "metadata": {},
   "outputs": [
    {
     "name": "stdout",
     "output_type": "stream",
     "text": [
      "[[72  8]\n",
      " [19 30]]\n",
      "Accuracy: 79.06976744186046 %\n",
      "Precision: 78.94736842105263 %\n",
      "Recall: 61.224489795918366 %\n"
     ]
    }
   ],
   "source": [
    "## Fit into the test set:\n",
    "y_pred_logit = logit2.predict(X_test_logit)\n",
    "y_pred_logit = [ 0 if x < 0.5 else 1 for x in y_pred_logit]\n",
    "print(metrics.confusion_matrix(y_test, y_pred_logit))\n",
    "print (\"Accuracy: \" + str( metrics.accuracy_score(y_test, y_pred_logit)*100)+\" %\")\n",
    "print (\"Precision: \"+ str( metrics.precision_score(y_test, y_pred_logit)*100) + \" %\")\n",
    "print ( \"Recall: \"+ str( metrics.recall_score(y_test, y_pred_logit)*100) +\" %\")"
   ]
  },
  {
   "cell_type": "markdown",
   "metadata": {},
   "source": [
    "#### 3. Neutral Network"
   ]
  },
  {
   "cell_type": "code",
   "execution_count": 38,
   "metadata": {},
   "outputs": [],
   "source": [
    "## Normalize the data first:\n",
    "scaler = StandardScaler()  \n",
    "scaler.fit(X_train)\n",
    "X_train = scaler.transform(X_train)  \n",
    "X_test = scaler.transform(X_test) \n"
   ]
  },
  {
   "cell_type": "code",
   "execution_count": 42,
   "metadata": {},
   "outputs": [
    {
     "name": "stderr",
     "output_type": "stream",
     "text": [
      "D:\\MinhNguyen\\Anaconda\\lib\\site-packages\\sklearn\\utils\\validation.py:63: DataConversionWarning: A column-vector y was passed when a 1d array was expected. Please change the shape of y to (n_samples, ), for example using ravel().\n",
      "  return f(*args, **kwargs)\n"
     ]
    },
    {
     "name": "stdout",
     "output_type": "stream",
     "text": [
      "[[75  5]\n",
      " [23 26]]\n",
      "Accuracy: 78.29457364341084 %\n",
      "Precision: 83.87096774193549 %\n",
      "Recall: 53.06122448979592 %\n"
     ]
    }
   ],
   "source": [
    "## Multi-layer perceptron classification - one hidden layer of 3 neurons\n",
    "mlp = MLPClassifier(hidden_layer_sizes=(3), max_iter=1000)  \n",
    "mlp.fit(X_train, y_train)  \n",
    "\n",
    "  \n",
    "## predict test set \n",
    "y_pred_NN = mlp.predict(X_test)  \n",
    "\n",
    "## confusion matrix\n",
    "print(metrics.confusion_matrix(y_test, y_pred_NN)) \n",
    "print (\"Accuracy: \" + str( metrics.accuracy_score(y_test, y_pred_NN)*100)+\" %\")\n",
    "print (\"Precision: \"+ str( metrics.precision_score(y_test, y_pred_NN)*100) + \" %\")\n",
    "print ( \"Recall: \"+ str( metrics.recall_score(y_test, y_pred_NN)*100) +\" %\")\n"
   ]
  },
  {
   "cell_type": "code",
   "execution_count": 49,
   "metadata": {},
   "outputs": [
    {
     "name": "stderr",
     "output_type": "stream",
     "text": [
      "D:\\MinhNguyen\\Anaconda\\lib\\site-packages\\sklearn\\utils\\validation.py:63: DataConversionWarning: A column-vector y was passed when a 1d array was expected. Please change the shape of y to (n_samples, ), for example using ravel().\n",
      "  return f(*args, **kwargs)\n",
      "D:\\MinhNguyen\\Anaconda\\lib\\site-packages\\sklearn\\utils\\validation.py:63: DataConversionWarning: A column-vector y was passed when a 1d array was expected. Please change the shape of y to (n_samples, ), for example using ravel().\n",
      "  return f(*args, **kwargs)\n",
      "D:\\MinhNguyen\\Anaconda\\lib\\site-packages\\sklearn\\utils\\validation.py:63: DataConversionWarning: A column-vector y was passed when a 1d array was expected. Please change the shape of y to (n_samples, ), for example using ravel().\n",
      "  return f(*args, **kwargs)\n",
      "D:\\MinhNguyen\\Anaconda\\lib\\site-packages\\sklearn\\utils\\validation.py:63: DataConversionWarning: A column-vector y was passed when a 1d array was expected. Please change the shape of y to (n_samples, ), for example using ravel().\n",
      "  return f(*args, **kwargs)\n",
      "D:\\MinhNguyen\\Anaconda\\lib\\site-packages\\sklearn\\utils\\validation.py:63: DataConversionWarning: A column-vector y was passed when a 1d array was expected. Please change the shape of y to (n_samples, ), for example using ravel().\n",
      "  return f(*args, **kwargs)\n",
      "D:\\MinhNguyen\\Anaconda\\lib\\site-packages\\sklearn\\utils\\validation.py:63: DataConversionWarning: A column-vector y was passed when a 1d array was expected. Please change the shape of y to (n_samples, ), for example using ravel().\n",
      "  return f(*args, **kwargs)\n",
      "D:\\MinhNguyen\\Anaconda\\lib\\site-packages\\sklearn\\utils\\validation.py:63: DataConversionWarning: A column-vector y was passed when a 1d array was expected. Please change the shape of y to (n_samples, ), for example using ravel().\n",
      "  return f(*args, **kwargs)\n",
      "D:\\MinhNguyen\\Anaconda\\lib\\site-packages\\sklearn\\utils\\validation.py:63: DataConversionWarning: A column-vector y was passed when a 1d array was expected. Please change the shape of y to (n_samples, ), for example using ravel().\n",
      "  return f(*args, **kwargs)\n",
      "D:\\MinhNguyen\\Anaconda\\lib\\site-packages\\sklearn\\utils\\validation.py:63: DataConversionWarning: A column-vector y was passed when a 1d array was expected. Please change the shape of y to (n_samples, ), for example using ravel().\n",
      "  return f(*args, **kwargs)\n"
     ]
    },
    {
     "name": "stdout",
     "output_type": "stream",
     "text": [
      "max min_sample_leaf accuracy: 79.84 index 1\n",
      "max min_sample_leaf precision: 89.29 index 4\n",
      "max min_sample_leaf recall: 59.18 index 3\n",
      "max min_sample_leaf f1: 68.29 index 1\n",
      "At max accuracy index 1\n",
      " Accuracy:  79.84%\n",
      " Precision:  84.85%\n",
      " Recall:  57.14%\n",
      " F1:  68.29%\n",
      "At max Precision index 4\n",
      " Accuracy:  79.07%\n",
      " Precision:  89.29%\n",
      " Recall:  51.02%\n",
      " F1:  64.94%\n",
      "At max Recall index 3\n",
      " Accuracy:  79.07%\n",
      " Precision:  80.56%\n",
      " Recall:  59.18%\n",
      " F1:  68.24%\n",
      "At max f1 index 1\n",
      " Accuracy:  79.84%\n",
      " Precision:  84.85%\n",
      " Recall:  57.14%\n",
      " F1:  68.29%\n"
     ]
    }
   ],
   "source": [
    "## Activation = Identity\n",
    "accuracy1 = []\n",
    "precision1 = []\n",
    "recall1 = []\n",
    "f11 = []\n",
    "xsize = X_train.shape\n",
    "step = 1\n",
    "xaxis = range(1,10,step)\n",
    "\n",
    "actFunc = ['identity', 'logistic', 'tanh', 'relu']\n",
    "for x in xaxis:\n",
    "    ## Multi-layer perceptron classification - one hidden layer of 3 neurons\n",
    "    mlp = MLPClassifier(hidden_layer_sizes=(x), max_iter=1000,random_state = 109, activation = 'identity')  \n",
    "    mlp.fit(X_train, y_train)  \n",
    "\n",
    "    ## predict test set \n",
    "    y_pred_NN = mlp.predict(X_test)\n",
    "\n",
    "    accuracy1.append(metrics.accuracy_score(y_test,y_pred_NN)*100)\n",
    "    precision1.append(metrics.precision_score(y_test,y_pred_NN)*100)\n",
    "    recall1.append(metrics.recall_score(y_test,y_pred_NN)*100)\n",
    "    f11.append(metrics.f1_score(y_test,y_pred_NN)*100)\n",
    "\n",
    "maxAccuracyIndex = accuracy1.index(max(accuracy1))\n",
    "maxPrecisionIndex = precision1.index(max(precision1))\n",
    "maxRecallIndex = recall1.index(max(recall1))\n",
    "maxF1Index = f11.index(max(f11))\n",
    "\n",
    "print(\"max min_sample_leaf accuracy: \" + str(round(max(accuracy1),2)) + \" index \" + str(maxAccuracyIndex*step+1))\n",
    "print(\"max min_sample_leaf precision: \" + str(round(max(precision1),2)) + \" index \" + str(maxPrecisionIndex*step+1))\n",
    "print(\"max min_sample_leaf recall: \" + str(round(max(recall1),2)) + \" index \" + str(maxRecallIndex*step+1))\n",
    "print(\"max min_sample_leaf f1: \" + str(round(max(f11),2)) + \" index \" + str(maxF1Index*step+1))\n",
    "\n",
    "\n",
    "print(\"At max accuracy index \" + str(maxAccuracyIndex*step+1) + \n",
    "      \"\\n Accuracy:  \" + str(round(accuracy1[maxAccuracyIndex],2)) + \"%\"\n",
    "      \"\\n Precision:  \" + str(round(precision1[maxAccuracyIndex],2)) + \"%\"\n",
    "      \"\\n Recall:  \" + str(round(recall1[maxAccuracyIndex],2))+ \"%\" +\n",
    "      \"\\n F1:  \" + str(round(f11[maxAccuracyIndex],2))+ \"%\")\n",
    "\n",
    "print(\"At max Precision index \" + str(maxPrecisionIndex*step+1) + \n",
    "      \"\\n Accuracy:  \" + str(round(accuracy1[maxPrecisionIndex],2)) + \"%\"\n",
    "      \"\\n Precision:  \" + str(round(precision1[maxPrecisionIndex],2)) + \"%\"\n",
    "      \"\\n Recall:  \" + str(round(recall1[maxPrecisionIndex],2))+ \"%\"+\n",
    "      \"\\n F1:  \" + str(round(f11[maxPrecisionIndex],2))+ \"%\") \n",
    "\n",
    "print(\"At max Recall index \" + str(maxRecallIndex*step+1) + \n",
    "      \"\\n Accuracy:  \" + str(round(accuracy1[maxRecallIndex],2)) + \"%\"\n",
    "      \"\\n Precision:  \" + str(round(precision1[maxRecallIndex],2)) + \"%\"\n",
    "      \"\\n Recall:  \" + str(round(recall1[maxRecallIndex],2))+ \"%\"+\n",
    "      \"\\n F1:  \" + str(round(f11[maxRecallIndex],2))+ \"%\")    \n",
    "\n",
    "print(\"At max f1 index \" + str(maxF1Index*step+1) + \n",
    "      \"\\n Accuracy:  \" + str(round(accuracy1[maxF1Index],2)) + \"%\"\n",
    "      \"\\n Precision:  \" + str(round(precision1[maxF1Index],2)) + \"%\"\n",
    "      \"\\n Recall:  \" + str(round(recall1[maxF1Index],2))+ \"%\"+\n",
    "      \"\\n F1:  \" + str(round(f11[maxF1Index],2))+ \"%\")   "
   ]
  },
  {
   "cell_type": "code",
   "execution_count": 46,
   "metadata": {},
   "outputs": [
    {
     "name": "stderr",
     "output_type": "stream",
     "text": [
      "D:\\MinhNguyen\\Anaconda\\lib\\site-packages\\sklearn\\utils\\validation.py:63: DataConversionWarning: A column-vector y was passed when a 1d array was expected. Please change the shape of y to (n_samples, ), for example using ravel().\n",
      "  return f(*args, **kwargs)\n",
      "D:\\MinhNguyen\\Anaconda\\lib\\site-packages\\sklearn\\neural_network\\_multilayer_perceptron.py:614: ConvergenceWarning: Stochastic Optimizer: Maximum iterations (1000) reached and the optimization hasn't converged yet.\n",
      "  warnings.warn(\n",
      "D:\\MinhNguyen\\Anaconda\\lib\\site-packages\\sklearn\\utils\\validation.py:63: DataConversionWarning: A column-vector y was passed when a 1d array was expected. Please change the shape of y to (n_samples, ), for example using ravel().\n",
      "  return f(*args, **kwargs)\n",
      "D:\\MinhNguyen\\Anaconda\\lib\\site-packages\\sklearn\\utils\\validation.py:63: DataConversionWarning: A column-vector y was passed when a 1d array was expected. Please change the shape of y to (n_samples, ), for example using ravel().\n",
      "  return f(*args, **kwargs)\n",
      "D:\\MinhNguyen\\Anaconda\\lib\\site-packages\\sklearn\\utils\\validation.py:63: DataConversionWarning: A column-vector y was passed when a 1d array was expected. Please change the shape of y to (n_samples, ), for example using ravel().\n",
      "  return f(*args, **kwargs)\n",
      "D:\\MinhNguyen\\Anaconda\\lib\\site-packages\\sklearn\\utils\\validation.py:63: DataConversionWarning: A column-vector y was passed when a 1d array was expected. Please change the shape of y to (n_samples, ), for example using ravel().\n",
      "  return f(*args, **kwargs)\n",
      "D:\\MinhNguyen\\Anaconda\\lib\\site-packages\\sklearn\\utils\\validation.py:63: DataConversionWarning: A column-vector y was passed when a 1d array was expected. Please change the shape of y to (n_samples, ), for example using ravel().\n",
      "  return f(*args, **kwargs)\n",
      "D:\\MinhNguyen\\Anaconda\\lib\\site-packages\\sklearn\\utils\\validation.py:63: DataConversionWarning: A column-vector y was passed when a 1d array was expected. Please change the shape of y to (n_samples, ), for example using ravel().\n",
      "  return f(*args, **kwargs)\n",
      "D:\\MinhNguyen\\Anaconda\\lib\\site-packages\\sklearn\\utils\\validation.py:63: DataConversionWarning: A column-vector y was passed when a 1d array was expected. Please change the shape of y to (n_samples, ), for example using ravel().\n",
      "  return f(*args, **kwargs)\n",
      "D:\\MinhNguyen\\Anaconda\\lib\\site-packages\\sklearn\\utils\\validation.py:63: DataConversionWarning: A column-vector y was passed when a 1d array was expected. Please change the shape of y to (n_samples, ), for example using ravel().\n",
      "  return f(*args, **kwargs)\n"
     ]
    },
    {
     "name": "stdout",
     "output_type": "stream",
     "text": [
      "max min_sample_leaf accuracy: 79.84 index 6\n",
      "max min_sample_leaf precision: 84.85 index 6\n",
      "max min_sample_leaf recall: 57.14 index 2\n",
      "max min_sample_leaf f1: 68.29 index 6\n",
      "At max accuracy index 6\n",
      " Accuracy:  79.84%\n",
      " Precision:  84.85%\n",
      " Recall:  57.14%\n",
      " F1:  68.29%\n",
      "At max Precision index 6\n",
      " Accuracy:  79.84%\n",
      " Precision:  84.85%\n",
      " Recall:  57.14%\n",
      " F1:  68.29%\n",
      "At max Recall index 2\n",
      " Accuracy:  78.29%\n",
      " Precision:  80.0%\n",
      " Recall:  57.14%\n",
      " F1:  66.67%\n",
      "At max f1 index 6\n",
      " Accuracy:  79.84%\n",
      " Precision:  84.85%\n",
      " Recall:  57.14%\n",
      " F1:  68.29%\n"
     ]
    }
   ],
   "source": [
    "#Activition = Logistic\n",
    "accuracy2 = []\n",
    "precision2 = []\n",
    "recall2 = []\n",
    "f12 = []\n",
    "xsize = X_train.shape\n",
    "step = 1\n",
    "xaxis = range(1,10,step)\n",
    "\n",
    "actFunc = ['identity', 'logistic', 'tanh', 'relu']\n",
    "for x in xaxis:\n",
    "    ## Multi-layer perceptron classification - one hidden layer of 3 neurons\n",
    "    mlp = MLPClassifier(hidden_layer_sizes=(x), max_iter=1000,random_state = 109, activation = 'logistic')  \n",
    "    mlp.fit(X_train, y_train)  \n",
    "\n",
    "    ## predict test set \n",
    "    y_pred_NN = mlp.predict(X_test)\n",
    "\n",
    "    accuracy2.append(metrics.accuracy_score(y_test,y_pred_NN)*100)\n",
    "    precision2.append(metrics.precision_score(y_test,y_pred_NN)*100)\n",
    "    recall2.append(metrics.recall_score(y_test,y_pred_NN)*100)\n",
    "    f12.append(metrics.f1_score(y_test,y_pred_NN)*100)\n",
    "\n",
    "maxAccuracyIndex = accuracy2.index(max(accuracy2))\n",
    "maxPrecisionIndex = precision2.index(max(precision2))\n",
    "maxRecallIndex = recall2.index(max(recall2))\n",
    "maxF1Index = f12.index(max(f12))\n",
    "\n",
    "print(\"max min_sample_leaf accuracy: \" + str(round(max(accuracy2),2)) + \" index \" + str(maxAccuracyIndex*step+1))\n",
    "print(\"max min_sample_leaf precision: \" + str(round(max(precision2),2)) + \" index \" + str(maxPrecisionIndex*step+1))\n",
    "print(\"max min_sample_leaf recall: \" + str(round(max(recall2),2)) + \" index \" + str(maxRecallIndex*step+1))\n",
    "print(\"max min_sample_leaf f1: \" + str(round(max(f12),2)) + \" index \" + str(maxF1Index*step+1))\n",
    "\n",
    "\n",
    "print(\"At max accuracy index \" + str(maxAccuracyIndex*step+1) + \n",
    "      \"\\n Accuracy:  \" + str(round(accuracy2[maxAccuracyIndex],2)) + \"%\"\n",
    "      \"\\n Precision:  \" + str(round(precision2[maxAccuracyIndex],2)) + \"%\"\n",
    "      \"\\n Recall:  \" + str(round(recall2[maxAccuracyIndex],2))+ \"%\" +\n",
    "      \"\\n F1:  \" + str(round(f12[maxAccuracyIndex],2))+ \"%\")\n",
    "\n",
    "print(\"At max Precision index \" + str(maxPrecisionIndex*step+1) + \n",
    "      \"\\n Accuracy:  \" + str(round(accuracy2[maxPrecisionIndex],2)) + \"%\"\n",
    "      \"\\n Precision:  \" + str(round(precision2[maxPrecisionIndex],2)) + \"%\"\n",
    "      \"\\n Recall:  \" + str(round(recall2[maxPrecisionIndex],2))+ \"%\"+\n",
    "      \"\\n F1:  \" + str(round(f12[maxPrecisionIndex],2))+ \"%\") \n",
    "\n",
    "print(\"At max Recall index \" + str(maxRecallIndex*step+1) + \n",
    "      \"\\n Accuracy:  \" + str(round(accuracy2[maxRecallIndex],2)) + \"%\"\n",
    "      \"\\n Precision:  \" + str(round(precision2[maxRecallIndex],2)) + \"%\"\n",
    "      \"\\n Recall:  \" + str(round(recall2[maxRecallIndex],2))+ \"%\"+\n",
    "      \"\\n F1:  \" + str(round(f12[maxRecallIndex],2))+ \"%\")    \n",
    "\n",
    "print(\"At max f1 index \" + str(maxF1Index*step+1) + \n",
    "      \"\\n Accuracy:  \" + str(round(accuracy2[maxF1Index],2)) + \"%\"\n",
    "      \"\\n Precision:  \" + str(round(precision2[maxF1Index],2)) + \"%\"\n",
    "      \"\\n Recall:  \" + str(round(recall2[maxF1Index],2))+ \"%\"+\n",
    "      \"\\n F1:  \" + str(round(f12[maxF1Index],2))+ \"%\")   "
   ]
  },
  {
   "cell_type": "code",
   "execution_count": 47,
   "metadata": {},
   "outputs": [
    {
     "name": "stderr",
     "output_type": "stream",
     "text": [
      "D:\\MinhNguyen\\Anaconda\\lib\\site-packages\\sklearn\\utils\\validation.py:63: DataConversionWarning: A column-vector y was passed when a 1d array was expected. Please change the shape of y to (n_samples, ), for example using ravel().\n",
      "  return f(*args, **kwargs)\n",
      "D:\\MinhNguyen\\Anaconda\\lib\\site-packages\\sklearn\\utils\\validation.py:63: DataConversionWarning: A column-vector y was passed when a 1d array was expected. Please change the shape of y to (n_samples, ), for example using ravel().\n",
      "  return f(*args, **kwargs)\n",
      "D:\\MinhNguyen\\Anaconda\\lib\\site-packages\\sklearn\\utils\\validation.py:63: DataConversionWarning: A column-vector y was passed when a 1d array was expected. Please change the shape of y to (n_samples, ), for example using ravel().\n",
      "  return f(*args, **kwargs)\n",
      "D:\\MinhNguyen\\Anaconda\\lib\\site-packages\\sklearn\\utils\\validation.py:63: DataConversionWarning: A column-vector y was passed when a 1d array was expected. Please change the shape of y to (n_samples, ), for example using ravel().\n",
      "  return f(*args, **kwargs)\n",
      "D:\\MinhNguyen\\Anaconda\\lib\\site-packages\\sklearn\\utils\\validation.py:63: DataConversionWarning: A column-vector y was passed when a 1d array was expected. Please change the shape of y to (n_samples, ), for example using ravel().\n",
      "  return f(*args, **kwargs)\n",
      "D:\\MinhNguyen\\Anaconda\\lib\\site-packages\\sklearn\\utils\\validation.py:63: DataConversionWarning: A column-vector y was passed when a 1d array was expected. Please change the shape of y to (n_samples, ), for example using ravel().\n",
      "  return f(*args, **kwargs)\n",
      "D:\\MinhNguyen\\Anaconda\\lib\\site-packages\\sklearn\\utils\\validation.py:63: DataConversionWarning: A column-vector y was passed when a 1d array was expected. Please change the shape of y to (n_samples, ), for example using ravel().\n",
      "  return f(*args, **kwargs)\n",
      "D:\\MinhNguyen\\Anaconda\\lib\\site-packages\\sklearn\\utils\\validation.py:63: DataConversionWarning: A column-vector y was passed when a 1d array was expected. Please change the shape of y to (n_samples, ), for example using ravel().\n",
      "  return f(*args, **kwargs)\n",
      "D:\\MinhNguyen\\Anaconda\\lib\\site-packages\\sklearn\\utils\\validation.py:63: DataConversionWarning: A column-vector y was passed when a 1d array was expected. Please change the shape of y to (n_samples, ), for example using ravel().\n",
      "  return f(*args, **kwargs)\n"
     ]
    },
    {
     "name": "stdout",
     "output_type": "stream",
     "text": [
      "max min_sample_leaf accuracy: 79.84 index 4\n",
      "max min_sample_leaf precision: 85.71 index 2\n",
      "max min_sample_leaf recall: 65.31 index 1\n",
      "max min_sample_leaf f1: 69.57 index 1\n",
      "At max accuracy index 4\n",
      " Accuracy:  79.84%\n",
      " Precision:  84.85%\n",
      " Recall:  57.14%\n",
      " F1:  68.29%\n",
      "At max Precision index 2\n",
      " Accuracy:  77.52%\n",
      " Precision:  85.71%\n",
      " Recall:  48.98%\n",
      " F1:  62.34%\n",
      "At max Recall index 1\n",
      " Accuracy:  78.29%\n",
      " Precision:  74.42%\n",
      " Recall:  65.31%\n",
      " F1:  69.57%\n",
      "At max f1 index 1\n",
      " Accuracy:  78.29%\n",
      " Precision:  74.42%\n",
      " Recall:  65.31%\n",
      " F1:  69.57%\n"
     ]
    }
   ],
   "source": [
    "#For tanh Activision:\n",
    "accuracy3 = []\n",
    "precision3 = []\n",
    "recall3 = []\n",
    "f13 = []\n",
    "xsize = X_train.shape\n",
    "step = 1\n",
    "xaxis = range(1,10,step)\n",
    "\n",
    "actFunc = ['identity', 'logistic', 'tanh', 'relu']\n",
    "for x in xaxis:\n",
    "    ## Multi-layer perceptron classification - one hidden layer of 3 neurons\n",
    "    mlp = MLPClassifier(hidden_layer_sizes=(x), max_iter=1000,random_state = 109, activation = 'tanh')  \n",
    "    mlp.fit(X_train, y_train)  \n",
    "\n",
    "    ## predict test set \n",
    "    y_pred_NN = mlp.predict(X_test)\n",
    "\n",
    "    accuracy3.append(metrics.accuracy_score(y_test,y_pred_NN)*100)\n",
    "    precision3.append(metrics.precision_score(y_test,y_pred_NN)*100)\n",
    "    recall3.append(metrics.recall_score(y_test,y_pred_NN)*100)\n",
    "    f13.append(metrics.f1_score(y_test,y_pred_NN)*100)\n",
    "\n",
    "maxAccuracyIndex = accuracy3.index(max(accuracy3))\n",
    "maxPrecisionIndex = precision3.index(max(precision3))\n",
    "maxRecallIndex = recall3.index(max(recall3))\n",
    "maxF1Index = f13.index(max(f13))\n",
    "\n",
    "print(\"max min_sample_leaf accuracy: \" + str(round(max(accuracy3),2)) + \" index \" + str(maxAccuracyIndex*step+1))\n",
    "print(\"max min_sample_leaf precision: \" + str(round(max(precision3),2)) + \" index \" + str(maxPrecisionIndex*step+1))\n",
    "print(\"max min_sample_leaf recall: \" + str(round(max(recall3),2)) + \" index \" + str(maxRecallIndex*step+1))\n",
    "print(\"max min_sample_leaf f1: \" + str(round(max(f13),2)) + \" index \" + str(maxF1Index*step+1))\n",
    "\n",
    "\n",
    "print(\"At max accuracy index \" + str(maxAccuracyIndex*step+1) + \n",
    "      \"\\n Accuracy:  \" + str(round(accuracy3[maxAccuracyIndex],2)) + \"%\"\n",
    "      \"\\n Precision:  \" + str(round(precision3[maxAccuracyIndex],2)) + \"%\"\n",
    "      \"\\n Recall:  \" + str(round(recall3[maxAccuracyIndex],2))+ \"%\" +\n",
    "      \"\\n F1:  \" + str(round(f13[maxAccuracyIndex],2))+ \"%\")\n",
    "\n",
    "print(\"At max Precision index \" + str(maxPrecisionIndex*step+1) + \n",
    "      \"\\n Accuracy:  \" + str(round(accuracy3[maxPrecisionIndex],2)) + \"%\"\n",
    "      \"\\n Precision:  \" + str(round(precision3[maxPrecisionIndex],2)) + \"%\"\n",
    "      \"\\n Recall:  \" + str(round(recall3[maxPrecisionIndex],2))+ \"%\"+\n",
    "      \"\\n F1:  \" + str(round(f13[maxPrecisionIndex],2))+ \"%\") \n",
    "\n",
    "print(\"At max Recall index \" + str(maxRecallIndex*step+1) + \n",
    "      \"\\n Accuracy:  \" + str(round(accuracy3[maxRecallIndex],2)) + \"%\"\n",
    "      \"\\n Precision:  \" + str(round(precision3[maxRecallIndex],2)) + \"%\"\n",
    "      \"\\n Recall:  \" + str(round(recall3[maxRecallIndex],2))+ \"%\"+\n",
    "      \"\\n F1:  \" + str(round(f13[maxRecallIndex],2))+ \"%\")    \n",
    "\n",
    "print(\"At max f1 index \" + str(maxF1Index*step+1) + \n",
    "      \"\\n Accuracy:  \" + str(round(accuracy3[maxF1Index],2)) + \"%\"\n",
    "      \"\\n Precision:  \" + str(round(precision3[maxF1Index],2)) + \"%\"\n",
    "      \"\\n Recall:  \" + str(round(recall3[maxF1Index],2))+ \"%\"+\n",
    "      \"\\n F1:  \" + str(round(f13[maxF1Index],2))+ \"%\")   \n",
    "    \n"
   ]
  },
  {
   "cell_type": "code",
   "execution_count": 48,
   "metadata": {},
   "outputs": [
    {
     "name": "stderr",
     "output_type": "stream",
     "text": [
      "D:\\MinhNguyen\\Anaconda\\lib\\site-packages\\sklearn\\utils\\validation.py:63: DataConversionWarning: A column-vector y was passed when a 1d array was expected. Please change the shape of y to (n_samples, ), for example using ravel().\n",
      "  return f(*args, **kwargs)\n",
      "D:\\MinhNguyen\\Anaconda\\lib\\site-packages\\sklearn\\utils\\validation.py:63: DataConversionWarning: A column-vector y was passed when a 1d array was expected. Please change the shape of y to (n_samples, ), for example using ravel().\n",
      "  return f(*args, **kwargs)\n",
      "D:\\MinhNguyen\\Anaconda\\lib\\site-packages\\sklearn\\utils\\validation.py:63: DataConversionWarning: A column-vector y was passed when a 1d array was expected. Please change the shape of y to (n_samples, ), for example using ravel().\n",
      "  return f(*args, **kwargs)\n",
      "D:\\MinhNguyen\\Anaconda\\lib\\site-packages\\sklearn\\utils\\validation.py:63: DataConversionWarning: A column-vector y was passed when a 1d array was expected. Please change the shape of y to (n_samples, ), for example using ravel().\n",
      "  return f(*args, **kwargs)\n",
      "D:\\MinhNguyen\\Anaconda\\lib\\site-packages\\sklearn\\utils\\validation.py:63: DataConversionWarning: A column-vector y was passed when a 1d array was expected. Please change the shape of y to (n_samples, ), for example using ravel().\n",
      "  return f(*args, **kwargs)\n",
      "D:\\MinhNguyen\\Anaconda\\lib\\site-packages\\sklearn\\utils\\validation.py:63: DataConversionWarning: A column-vector y was passed when a 1d array was expected. Please change the shape of y to (n_samples, ), for example using ravel().\n",
      "  return f(*args, **kwargs)\n",
      "D:\\MinhNguyen\\Anaconda\\lib\\site-packages\\sklearn\\utils\\validation.py:63: DataConversionWarning: A column-vector y was passed when a 1d array was expected. Please change the shape of y to (n_samples, ), for example using ravel().\n",
      "  return f(*args, **kwargs)\n",
      "D:\\MinhNguyen\\Anaconda\\lib\\site-packages\\sklearn\\utils\\validation.py:63: DataConversionWarning: A column-vector y was passed when a 1d array was expected. Please change the shape of y to (n_samples, ), for example using ravel().\n",
      "  return f(*args, **kwargs)\n",
      "D:\\MinhNguyen\\Anaconda\\lib\\site-packages\\sklearn\\utils\\validation.py:63: DataConversionWarning: A column-vector y was passed when a 1d array was expected. Please change the shape of y to (n_samples, ), for example using ravel().\n",
      "  return f(*args, **kwargs)\n"
     ]
    },
    {
     "name": "stdout",
     "output_type": "stream",
     "text": [
      "max min_sample_leaf accuracy: 79.07 index 1\n",
      "max min_sample_leaf precision: 86.67 index 1\n",
      "max min_sample_leaf recall: 69.39 index 2\n",
      "max min_sample_leaf f1: 66.67 index 7\n",
      "At max accuracy index 1\n",
      " Accuracy:  79.07%\n",
      " Precision:  86.67%\n",
      " Recall:  53.06%\n",
      " F1:  65.82%\n",
      "At max Precision index 1\n",
      " Accuracy:  79.07%\n",
      " Precision:  86.67%\n",
      " Recall:  53.06%\n",
      " F1:  65.82%\n",
      "At max Recall index 2\n",
      " Accuracy:  69.77%\n",
      " Precision:  58.62%\n",
      " Recall:  69.39%\n",
      " F1:  63.55%\n",
      "At max f1 index 7\n",
      " Accuracy:  78.29%\n",
      " Precision:  80.0%\n",
      " Recall:  57.14%\n",
      " F1:  66.67%\n"
     ]
    }
   ],
   "source": [
    "# For Relu Activation:\n",
    "accuracy4 = []\n",
    "precision4 = []\n",
    "recall4 = []\n",
    "f14 = []\n",
    "xsize = X_train.shape\n",
    "step = 1\n",
    "xaxis = range(1,10,step)\n",
    "\n",
    "actFunc = ['identity', 'logistic', 'tanh', 'relu']\n",
    "for x in xaxis:\n",
    "    ## Multi-layer perceptron classification - one hidden layer of 3 neurons\n",
    "    mlp = MLPClassifier(hidden_layer_sizes=(x), max_iter=1000,random_state = 109, activation = 'relu')  \n",
    "    mlp.fit(X_train, y_train)  \n",
    "\n",
    "    ## predict test set \n",
    "    y_pred_NN = mlp.predict(X_test)\n",
    "\n",
    "    accuracy4.append(metrics.accuracy_score(y_test,y_pred_NN)*100)\n",
    "    precision4.append(metrics.precision_score(y_test,y_pred_NN)*100)\n",
    "    recall4.append(metrics.recall_score(y_test,y_pred_NN)*100)\n",
    "    f14.append(metrics.f1_score(y_test,y_pred_NN)*100)\n",
    "\n",
    "maxAccuracyIndex = accuracy4.index(max(accuracy4))\n",
    "maxPrecisionIndex = precision4.index(max(precision4))\n",
    "maxRecallIndex = recall4.index(max(recall4))\n",
    "maxF1Index = f14.index(max(f14))\n",
    "\n",
    "print(\"max min_sample_leaf accuracy: \" + str(round(max(accuracy4),2)) + \" index \" + str(maxAccuracyIndex*step+1))\n",
    "print(\"max min_sample_leaf precision: \" + str(round(max(precision4),2)) + \" index \" + str(maxPrecisionIndex*step+1))\n",
    "print(\"max min_sample_leaf recall: \" + str(round(max(recall4),2)) + \" index \" + str(maxRecallIndex*step+1))\n",
    "print(\"max min_sample_leaf f1: \" + str(round(max(f14),2)) + \" index \" + str(maxF1Index*step+1))\n",
    "\n",
    "\n",
    "print(\"At max accuracy index \" + str(maxAccuracyIndex*step+1) + \n",
    "      \"\\n Accuracy:  \" + str(round(accuracy4[maxAccuracyIndex],2)) + \"%\"\n",
    "      \"\\n Precision:  \" + str(round(precision4[maxAccuracyIndex],2)) + \"%\"\n",
    "      \"\\n Recall:  \" + str(round(recall4[maxAccuracyIndex],2))+ \"%\" +\n",
    "      \"\\n F1:  \" + str(round(f14[maxAccuracyIndex],2))+ \"%\")\n",
    "\n",
    "print(\"At max Precision index \" + str(maxPrecisionIndex*step+1) + \n",
    "      \"\\n Accuracy:  \" + str(round(accuracy4[maxPrecisionIndex],2)) + \"%\"\n",
    "      \"\\n Precision:  \" + str(round(precision4[maxPrecisionIndex],2)) + \"%\"\n",
    "      \"\\n Recall:  \" + str(round(recall4[maxPrecisionIndex],2))+ \"%\"+\n",
    "      \"\\n F1:  \" + str(round(f14[maxPrecisionIndex],2))+ \"%\") \n",
    "\n",
    "print(\"At max Recall index \" + str(maxRecallIndex*step+1) + \n",
    "      \"\\n Accuracy:  \" + str(round(accuracy4[maxRecallIndex],2)) + \"%\"\n",
    "      \"\\n Precision:  \" + str(round(precision4[maxRecallIndex],2)) + \"%\"\n",
    "      \"\\n Recall:  \" + str(round(recall4[maxRecallIndex],2))+ \"%\"+\n",
    "      \"\\n F1:  \" + str(round(f14[maxRecallIndex],2))+ \"%\")    \n",
    "\n",
    "print(\"At max f1 index \" + str(maxF1Index*step+1) + \n",
    "      \"\\n Accuracy:  \" + str(round(accuracy4[maxF1Index],2)) + \"%\"\n",
    "      \"\\n Precision:  \" + str(round(precision4[maxF1Index],2)) + \"%\"\n",
    "      \"\\n Recall:  \" + str(round(recall4[maxF1Index],2))+ \"%\"+\n",
    "      \"\\n F1:  \" + str(round(f14[maxF1Index],2))+ \"%\")  "
   ]
  },
  {
   "cell_type": "markdown",
   "metadata": {},
   "source": [
    "Comparing all of the above, it seem like the best one is Activation = Logistic and Hidden_layer = 6. This one yeild the highest combination of Accuracy and Preceision. To be more specific, this one have the highest Recall rate, which is the model sensitivity. \n",
    "The one with Activation = Identity and Hidden_layer = 4 have the highest Precision, yet the Recall is nocticeably lower than this one. So I choose this one. \n"
   ]
  },
  {
   "cell_type": "code",
   "execution_count": 52,
   "metadata": {},
   "outputs": [
    {
     "name": "stderr",
     "output_type": "stream",
     "text": [
      "D:\\MinhNguyen\\Anaconda\\lib\\site-packages\\sklearn\\utils\\validation.py:63: DataConversionWarning: A column-vector y was passed when a 1d array was expected. Please change the shape of y to (n_samples, ), for example using ravel().\n",
      "  return f(*args, **kwargs)\n"
     ]
    },
    {
     "name": "stdout",
     "output_type": "stream",
     "text": [
      "[[75  5]\n",
      " [21 28]]\n",
      "Accuracy: 79.84496124031007 %\n",
      "Precision: 84.84848484848484 %\n",
      "Recall: 57.14285714285714 %\n"
     ]
    }
   ],
   "source": [
    "# Build the NN model again with such trimmed features:\n",
    "## Multi-layer perceptron classification - one hidden layer of 4 neurons, activition = Identity\n",
    "mlp2 = MLPClassifier(hidden_layer_sizes=(6), max_iter=1000,random_state = 109, activation = 'logistic')  \n",
    "mlp2.fit(X_train, y_train)  \n",
    "\n",
    "  \n",
    "## predict test set \n",
    "y_pred_NN_2 = mlp2.predict(X_test)  \n",
    "\n",
    "## confusion matrix\n",
    "print(metrics.confusion_matrix(y_test, y_pred_NN_2)) \n",
    "print (\"Accuracy: \" + str( metrics.accuracy_score(y_test, y_pred_NN_2)*100)+\" %\")\n",
    "print (\"Precision: \"+ str( metrics.precision_score(y_test, y_pred_NN_2)*100) + \" %\")\n",
    "print ( \"Recall: \"+ str( metrics.recall_score(y_test, y_pred_NN_2)*100) +\" %\")"
   ]
  },
  {
   "cell_type": "code",
   "execution_count": null,
   "metadata": {},
   "outputs": [],
   "source": []
  }
 ],
 "metadata": {
  "kernelspec": {
   "display_name": "Python 3",
   "language": "python",
   "name": "python3"
  },
  "language_info": {
   "codemirror_mode": {
    "name": "ipython",
    "version": 3
   },
   "file_extension": ".py",
   "mimetype": "text/x-python",
   "name": "python",
   "nbconvert_exporter": "python",
   "pygments_lexer": "ipython3",
   "version": "3.6.9"
  }
 },
 "nbformat": 4,
 "nbformat_minor": 4
}
